{
 "cells": [
  {
   "cell_type": "markdown",
   "id": "ff257969-c57d-436b-a81b-687998ca5e36",
   "metadata": {},
   "source": [
    "# Cloud Day - ASA's + SSA's + SSP's"
   ]
  },
  {
   "cell_type": "markdown",
   "id": "60d096c6-2d96-4780-a37b-cc9d9caf0e40",
   "metadata": {},
   "source": [
    "---"
   ]
  },
  {
   "cell_type": "markdown",
   "id": "6de4c89d-7116-4cfd-8119-891a410aaf96",
   "metadata": {
    "editable": true,
    "slideshow": {
     "slide_type": ""
    },
    "tags": []
   },
   "source": [
    "## Why Red Hat OpenShift cloud services?\n",
    "- [Slides](https://docs.google.com/presentation/d/1X7X6BzhYgryP87mncZsA4cyEUFWMlbwhAIR-DM1hAtY/edit#slide=id.g1ff663e74ab_0_6190)\n",
    "- [Managed OpenShift Tutorials - Black Belts](https://cloud.redhat.com/experts/)\n"
   ]
  },
  {
   "cell_type": "markdown",
   "id": "4aebfa4e-2947-4ac7-b5d2-dab50a630709",
   "metadata": {},
   "source": [
    "## Black Belts Workshops\n",
    "\n",
    "- [Accessing Workshop](https://docs.google.com/presentation/d/1mWX7KJ0LW2K4WAI2QWXNisW9h2AQsJtHj4Lcyu55Hdc/edit?usp=sharing) <br><br>\n",
    "- [ARO Slides](https://docs.google.com/presentation/d/1A-qv1b-Sig3dxpqISFm9xdZoI_C7F7CSFRmlClm0y6c/edit#slide=id.g1e54a9cd9fa_0_5192)\n",
    "- [ARO Conteúdo WORKSHOP](https://ws.mobb.cloud/)\n",
    "> - [ARO Workshop Environment](https://demo.redhat.com/catalog?search=aro&item=babylon-catalog-prod%2Fazure-gpte.aro-env.prod)\n",
    "> - [Azure with ARO Open Environment](https://demo.redhat.com/catalog?search=aro&item=babylon-catalog-prod%2Fazure-gpte.open-environment-azure-aro4.prod)\n",
    "> - [Update Pull Secret](https://learn.microsoft.com/en-us/azure/openshift/howto-add-update-pull-secret)\n",
    ">    - [What is the purpose of MW00598 Microsoft Azure Red Hat OpenShift, Premium (60 Days) subscription?](https://access.redhat.com/solutions/7055674)\n"
   ]
  },
  {
   "cell_type": "markdown",
   "id": "6070ab97-237b-4444-acd5-3eb09e28430a",
   "metadata": {
    "editable": true,
    "slideshow": {
     "slide_type": ""
    },
    "tags": []
   },
   "source": [
    "- [ROSA Slides](https://docs.google.com/presentation/d/1l8VOyCBlr4RDfrjbcQAn-CkIoTa6uEuqKMSh1CDPX9I/edit#slide=id.g1e54a67fc98_0_4458)\n",
    "- [ROSA Conteúdo Workshop](https://rosa-ws.mobb.cloud/)\n",
    "- [ROSA Token](https://console.redhat.com/openshift/token/rosa)\n",
    "> - [ROSA Workshop pre-deploy](https://demo.redhat.com/catalog?search=pre-deploy&item=babylon-catalog-test%2Fsandboxes-gpte.rosa-wksp-predeploy.test)\n",
    "> - [ROSA Ops Hands-on Experience](https://demo.redhat.com/catalog?search=experience&item=babylon-catalog-prod%2Fsandboxes-gpte.rosa-ops-hoe.prod)\n",
    "> - [ROSA Hands-on Experiencing](https://console.redhat.com/openshift/services/rosa/demo/)"
   ]
  },
  {
   "cell_type": "markdown",
   "id": "f0b286d9-76ad-4dc2-bc36-d744c0126b21",
   "metadata": {
    "editable": true,
    "slideshow": {
     "slide_type": ""
    },
    "tags": []
   },
   "source": [
    "## OpenShift Dedicated (OSD)\n",
    "- [Slides](https://docs.google.com/presentation/d/1kAsg0Cf9EE69UfKI7Li-4wauJvEddoOaSv5IYXsdqsE/edit?usp=sharing)"
   ]
  },
  {
   "cell_type": "markdown",
   "id": "d0c78032-6e25-443d-8291-21cfb1df4dd1",
   "metadata": {
    "editable": true,
    "slideshow": {
     "slide_type": ""
    },
    "tags": []
   },
   "source": [
    "## ARO/ROSA Updates\n",
    "- [Slides](https://docs.google.com/presentation/d/1sA74VJHgc5cqcuvu2_7eUEDX3x0Kg3STXFs-YupUMqY/edit?usp=sharing)\n",
    "- [ARO Roadmap](https://github.com/Azure/OpenShift/projects/1)\n",
    "- [ROSA Roadmap](https://github.com/openshift-cs/managed-openshift/projects/2)\n",
    "- [Service Supportability Matrix - Internal](https://docs.google.com/spreadsheets/d/1d9CdJqWWI5ptvWjvO-SqgbFrlpuY_ZRjH_Q5sCZKfQs/edit#gid=0)"
   ]
  },
  {
   "cell_type": "markdown",
   "id": "2077f722-e5a1-4aa7-b932-cc9db4bb8837",
   "metadata": {},
   "source": [
    "## Hosted Control Plan\n",
    "- [Slides Resumido](https://docs.google.com/presentation/d/1LUJxiUntxA20UrnvlRNHe8ABhI_cYu_yYGe0OiPbRp0/edit?usp=sharing)\n",
    "- [ROSA with Hosted Control Planes Enablement](https://docs.google.com/presentation/d/1wavWSDT0dnwkIcYBYSlYC1mcNG-8hVt0rMF_SoO6SPI/edit?usp=sharing)\n",
    "- [Differences between ROSA with HCP and ROSA classic](https://docs.aws.amazon.com/rosa/latest/userguide/rosa-deployment-options.html)\n",
    "- [ROSA Classic to HCP Migration Guide](https://docs.google.com/document/d/1xOBAs4GU9Eu-1HNtcTYTy5HJ7MpL4Zjp3zDNQUUwzNE/edit?usp=sharing)"
   ]
  },
  {
   "cell_type": "markdown",
   "id": "d257e9c4-3216-4196-b8b5-a73ea7998fb9",
   "metadata": {},
   "source": [
    "## Cost Management\n",
    "- [Slides](https://docs.google.com/presentation/d/1dH4n39dahbwJIxMDHlbHz3R4wGkTnkDkmexpBtxLow8/edit?usp=sharing)\n",
    "- [Documento-gestao-de-billing-openshift - slides](https://drive.google.com/file/d/1r6qf4ASlsdycTejMxEejzTWYyI4PhMwx/view?usp=sharing)\n",
    "- [Documento-gestao-de-billing-openshift](https://drive.google.com/file/d/1WNH41xJx_nVCwHPUImR5HT1e4w_nYum9/view?usp=sharing)"
   ]
  },
  {
   "cell_type": "markdown",
   "id": "5ad16493-22f5-4d76-8187-612e74060c45",
   "metadata": {},
   "source": [
    "## Support / SRE\n",
    "- [ARO Support Process Walkthrough for Customers](https://docs.google.com/presentation/d/1vMIEJHDNlm4XUjJ-WaLKg6evM_dVwFYJR8tPivdx7xo/edit#slide=id.g13f8a7616f9_0_1789)\n",
    "- [How to create Azure Service Health alerts for Azure Red Hat OpenShift](https://access.redhat.com/solutions/6984356)"
   ]
  },
  {
   "cell_type": "markdown",
   "id": "e57ec3a9-797b-4a5c-b0cd-a400d4d45793",
   "metadata": {},
   "source": [
    "## Openshift Virtualization\n",
    "- [Slides](https://docs.google.com/presentation/d/187VEzSxY1upWlkJ39Ubit7wmM_FkWKRetJ-kSX_IYG8/edit?usp=sharing)\n",
    "- [How to manage virtual machines using Red Hat OpenShift Virtualization on Red Hat OpenShift Service on AWS](https://cloud.redhat.com/learn/how-manage-virtual-machines-using-red-hat-openshift-virtualization-red-hat-openshift-service)\n",
    "- [Virtualization-on-ROSA](https://github.com/emcon33/Virtualization-on-ROSA)\n",
    "- [OpenShift Virtualization on Red Hat OpenShift Service on AWS (ROSA)](https://docs.google.com/spreadsheets/d/1PWseWa2hlsWlMdrvjfVl4ydFhtN0oJH-dUvN3LiB9Mk/edit#gid=1933918928)"
   ]
  },
  {
   "cell_type": "markdown",
   "id": "096d7570-7da8-41b0-827e-ad1a74881548",
   "metadata": {},
   "source": [
    "## Openshift AI\n",
    "- [Slides](https://docs.google.com/presentation/d/1p6Sbgooj3slCgcdc3LE12XrBtaY9N4kW_RHyiD_3Ns8/edit?usp=sharing)\n",
    "- [AI at Red Hat: What's Next](https://docs.google.com/presentation/d/1RmeNmWfEmn4CNG-uCFO9lGbhFbbtqzkSQf_II4k9n2Q/edit?usp=sharing)\n",
    "- [Use GPU workloads with Azure Red Hat OpenShift](https://learn.microsoft.com/en-us/azure/openshift/howto-gpu-workloads)\n",
    "- [Demo - Base RHOAI on ROSA (Red Hat OpenShift Service on AWS)](https://demo.redhat.com/catalog?search=rhoai&item=babylon-catalog-prod%2Fsandboxes-gpte.ocp4-wksp-base-rhods-on-rosa.prod)\n",
    "- [Demo - Base RHOAI on ARO (Azure Red Hat OpenShift)](https://demo.redhat.com/catalog?search=rhoai&item=babylon-catalog-prod%2Fazure-gpte.ocp4-rhods-on-aro.prod)\n",
    "   - [Object Detection Workshop](https://redhat-scholars.github.io/rhods-od-workshop/rhods-od-workshop/index.html)\n",
    "- [Demo](https://demo.redhat.com/catalog?search=insurance&item=babylon-catalog-prod%2Fsandboxes-gpte.ocp-wksp-ai-insurance-claim.prod)\n",
    "   - [Streamlining insurance claims with OpenShift AI](https://rh-aiservices-bu.github.io/insurance-claim-processing/modules/index.html)\n",
    ">  - [AI on OpenShift](https://ai-on-openshift.io/)\n",
    ">  - [Introduction to Red Hat OpenShift AI](https://redhatquickcourses.github.io/rhods-intro/rhods-intro/1.33/index.html)\n",
    ">  - [Creating Machine Learning Models with Red Hat OpenShift AI](https://redhatquickcourses.github.io/rhods-model/rhods-model/1.33/index.html)\n",
    "> - [OpenShift Data Science (RHODS) Costs Estimator](https://ods-cost-estimator-pricing-prod.apps.rhods-internal.61tk.p1.openshiftapps.com/)\n"
   ]
  },
  {
   "cell_type": "markdown",
   "id": "ae8a5d15-57b8-4ebf-9bcf-8bf6cafe2120",
   "metadata": {},
   "source": [
    "## Disaster Recovery (DR)\n",
    "- [ARO - Considerations for Disaster Recovery](https://cloud.redhat.com/experts/aro/disaster-recovery/)"
   ]
  },
  {
   "cell_type": "markdown",
   "id": "b0a0f847-0e74-4168-936e-0cc3fbd68278",
   "metadata": {},
   "source": [
    "## Security\n",
    "- [ARO Security - Considerations and Recommendations](https://docs.google.com/presentation/d/1Wu0BSGCgewgzYOEHSpVmPZGimFulbJ0KAeIBc0d6Lpw/edit#slide=id.p1)\n",
    "- [Explore the 4Cs of security capabilities in Red Hat OpenShift Service on AWS](https://docs.google.com/presentation/d/1Y7tYBGPxr4JMElXsaPyaAJSKZCimZxQdFbk6dG-tstQ/edit#slide=id.p1)"
   ]
  },
  {
   "cell_type": "markdown",
   "id": "1e3757d1-a6b6-491b-8d64-e8601ab5b61a",
   "metadata": {},
   "source": [
    "## Red Hat Studies on Business Value and ROI\n",
    "- [ROSA Price Estimator Tool](https://red.ht/rosacalc)\n",
    "- [ROSA Price Comparison](https://rosa.wigarcia.com/)\n",
    "- [Lista de recursos](https://docs.google.com/document/d/1tFcouS8pX91QlCvcL375dcO0Wi4XTGM0ncQ2evcJEEI/edit?usp=sharing)\n",
    "- [ROSA vs OCP Self Managed  TCO on AWS 070623](https://docs.google.com/spreadsheets/d/1FDn4xA1N1uG8PMfJ3TK0f1HjTfoPlI7surWp3-Wugng/edit#gid=636797236)\n",
    "- [OSD-GCP vs OCP Self Managed  TCO  070723](https://docs.google.com/spreadsheets/d/149GZWLguAbbzp5AyAiWWNwi-K43hN4OZLejmhaxRqrQ/edit#gid=331042770)"
   ]
  }
 ],
 "metadata": {
  "kernelspec": {
   "display_name": "Python 3 (ipykernel)",
   "language": "python",
   "name": "python3"
  },
  "language_info": {
   "codemirror_mode": {
    "name": "ipython",
    "version": 3
   },
   "file_extension": ".py",
   "mimetype": "text/x-python",
   "name": "python",
   "nbconvert_exporter": "python",
   "pygments_lexer": "ipython3",
   "version": "3.12.3"
  }
 },
 "nbformat": 4,
 "nbformat_minor": 5
}
